{
 "cells": [
  {
   "cell_type": "code",
   "execution_count": 241,
   "metadata": {},
   "outputs": [],
   "source": [
    "class LinearRegression():\n",
    "    \"\"\"Takes X, y values as vectors. Can fit to data and predict from new x values. Measures error by MSE\n",
    "    Call '.fit()' to fit the model, and '.predict(test_values)' to make predictions. After making a prediction\n",
    "    '.mse()' can be called to return the mean square error\n",
    "    \"\"\"\n",
    "    #initialize the x and y values, and get the means\n",
    "    def __init__(self, x, y):\n",
    "        self.y = y\n",
    "        self.x = x\n",
    "        self.x_sample_mean=x.mean()\n",
    "        self.y_sample_mean=y.mean()\n",
    "        \n",
    "    def fit(self):\n",
    "    # given the data, fit a line that will most closely approximate the data\n",
    "    # the equations here are the minimizers to solve for the coefficients (m) and bias (b)\n",
    "        m = sum((self.x-self.x_sample_mean)*(self.y-self.y_sample_mean))/sum(((self.x-self.x_sample_mean)**2))\n",
    "        b = self.y_sample_mean-m*self.x_sample_mean\n",
    "        self.m=m\n",
    "        self.b=b\n",
    "    \n",
    "    def predict(self, x_vals):\n",
    "    # take the test data and make a prediction using the newly fit theta(m) values and the biases\n",
    "    # return the predictions\n",
    "        self.preds = self.m*x_vals+self.b\n",
    "        return self.preds\n",
    "    \n",
    "    def mse(self):\n",
    "    # calculate and return the mean square error.\n",
    "        n = len(self.y)\n",
    "        mse = sum((y-self.preds)**2)/n\n",
    "        return mse\n",
    "\n"
   ]
  },
  {
   "cell_type": "markdown",
   "metadata": {},
   "source": [
    "Above, we have a Linear Regression class written from scratch. This class can be used to find a line of best fit given a certain model and predict y values with that model. It currently only works for a simple univariate linear regression."
   ]
  },
  {
   "cell_type": "markdown",
   "metadata": {},
   "source": [
    "In order to test the class, I'll generate some synthetic data with other packages, implement the calculations that are used in the class outside of the class to ensure they work, and then instantiate and use an object from the class"
   ]
  },
  {
   "cell_type": "code",
   "execution_count": 242,
   "metadata": {},
   "outputs": [],
   "source": [
    "#import sklearn to get a synthetic dataset\n",
    "from sklearn.datasets import make_regression"
   ]
  },
  {
   "cell_type": "code",
   "execution_count": 243,
   "metadata": {},
   "outputs": [],
   "source": [
    "#create the synthetic dataset\n",
    "data = make_regression(100,1, bias=1, noise=10)"
   ]
  },
  {
   "cell_type": "code",
   "execution_count": 244,
   "metadata": {},
   "outputs": [
    {
     "data": {
      "text/plain": [
       "array([ -15.06274051,   33.6821921 ,   -5.36915827,  -81.45600702,\n",
       "        108.19800346,   66.70425899,   34.53993921,  129.34003775,\n",
       "         41.65390708,  -34.35862067,  125.75722679,  -21.53617466,\n",
       "        -15.25003794,   39.74329821,  -51.26361928,  -18.33237727,\n",
       "          4.63330919,   63.86532888,   71.83260916, -160.69073265,\n",
       "        -16.22005798,  140.85871167,  121.05528762,  -66.7883698 ,\n",
       "        -80.40766501,  134.92973916,  -94.38526654,  -49.94191981,\n",
       "         60.91226458,  -24.18102306,  -39.10714476,  122.350991  ,\n",
       "        -29.00837125,   48.61772706,   48.59679743,  -67.8362351 ,\n",
       "          6.65994289,   23.97714762,  -98.03760476,   88.83779287,\n",
       "         72.84024478,  102.40486736,   54.34985307,  103.75295238,\n",
       "         18.19497752,   10.91009039,   36.66995271,   30.31609144,\n",
       "        -11.2047303 ,    1.48255014,  -34.77855051,  150.32595368,\n",
       "         19.38503668,    8.53391784,  128.91982864, -172.3761143 ,\n",
       "        -25.05127545,   38.03932524,  -50.84853069,    2.6881129 ,\n",
       "          2.07705209,   31.4474846 ,   53.16373562,  -48.00084198,\n",
       "        -78.88005752,  -15.9754345 ,   77.91484235,    5.6897617 ,\n",
       "         18.24835737,   63.66170442,  -26.23747146,  -36.3046079 ,\n",
       "         52.5478511 , -143.51619453,  -28.60794493,  -29.46571472,\n",
       "       -108.85244539,  -62.90258478,   21.37947515,   17.90066039,\n",
       "        221.36997   ,  145.17043567,    8.18945577,   -4.2599609 ,\n",
       "         22.9549758 ,  -98.639304  ,   67.74500087,   -6.71326774,\n",
       "        -88.45014763,  -77.2807405 ,   78.86849713,   22.09157837,\n",
       "        126.7250785 ,   -3.99397773,   -2.95286402,  -31.30501777,\n",
       "        -12.11512832,  -46.64477241,   15.49654647,   70.67944668])"
      ]
     },
     "execution_count": 244,
     "metadata": {},
     "output_type": "execute_result"
    }
   ],
   "source": [
    "#take a look at the y values in the new data\n",
    "data[1]"
   ]
  },
  {
   "cell_type": "markdown",
   "metadata": {},
   "source": [
    "From the definition given in Introduction to Statistical Learning by Garreth James et al.\n",
    "the  minimizers for linreg are (in pseudo-code):\n",
    "    \n",
    "    m = sum(x - sample mean)*(y- sample y mean)/(sum(x-x sample mean)**2)\n",
    "    b = y sample mean - m* xsample mean\n",
    "\n",
    "We'll need to calculate the sample mean\n",
    "```\n",
    "x_sample_mean = x.mean()\n",
    "y_sample_mean = y.mean()\n",
    "```\n",
    "\n",
    "Consquently, our function should look something like\n",
    "```\n",
    "m = sum(x-x_sample_mean)*(y-y_sample_mean)/(sum(x-x_sample_mean)**2)```"
   ]
  },
  {
   "cell_type": "code",
   "execution_count": 245,
   "metadata": {},
   "outputs": [
    {
     "data": {
      "text/plain": [
       "0.12885090300642776"
      ]
     },
     "execution_count": 245,
     "metadata": {},
     "output_type": "execute_result"
    }
   ],
   "source": [
    "#check to see that getting the mean returns a reasonable number\n",
    "data[0].mean()"
   ]
  },
  {
   "cell_type": "code",
   "execution_count": 247,
   "metadata": {},
   "outputs": [],
   "source": [
    "x = data[0]\n",
    "y = data[1]\n",
    "\n",
    "#x[0] gives us a shape of (100,1), but we need it as (100,0), so we reshape the array.\n",
    "x = x.reshape(len(x))\n",
    "\n",
    "#Now, we can calculate outside of the class what should be going on inside\n",
    "x_sample_mean = x.mean()\n",
    "y_sample_mean = y.mean()\n",
    "\n",
    "n = len(y)\n",
    "\n",
    "m = sum((x-x_sample_mean)*(y-y_sample_mean))/sum(((x-x_sample_mean)**2))"
   ]
  },
  {
   "cell_type": "code",
   "execution_count": 248,
   "metadata": {},
   "outputs": [],
   "source": [
    "b = y_sample_mean-m*x_sample_mean"
   ]
  },
  {
   "cell_type": "markdown",
   "metadata": {},
   "source": [
    "Now we have calculated all of the pieces we need in order to make predictions! We can sanity check some of the values and make sure things are the right shape, then make predictions!"
   ]
  },
  {
   "cell_type": "code",
   "execution_count": 261,
   "metadata": {},
   "outputs": [
    {
     "data": {
      "text/plain": [
       "(71.06820544474401, 2.885711265731681)"
      ]
     },
     "execution_count": 261,
     "metadata": {},
     "output_type": "execute_result"
    }
   ],
   "source": [
    "#check the bias and slope\n",
    "m, b"
   ]
  },
  {
   "cell_type": "code",
   "execution_count": 262,
   "metadata": {},
   "outputs": [
    {
     "data": {
      "text/plain": [
       "(100,)"
      ]
     },
     "execution_count": 262,
     "metadata": {},
     "output_type": "execute_result"
    }
   ],
   "source": [
    "#check the shape of y and x to make sure they're compatible and not broadcasting\n",
    "y.shape"
   ]
  },
  {
   "cell_type": "code",
   "execution_count": 263,
   "metadata": {},
   "outputs": [
    {
     "data": {
      "text/plain": [
       "(100,)"
      ]
     },
     "execution_count": 263,
     "metadata": {},
     "output_type": "execute_result"
    }
   ],
   "source": [
    "x.shape"
   ]
  },
  {
   "cell_type": "markdown",
   "metadata": {},
   "source": [
    "Great, things look like they're in order. Let's make some predictions. We'll make predictions on our own data first, to calculate our sample error"
   ]
  },
  {
   "cell_type": "code",
   "execution_count": 264,
   "metadata": {},
   "outputs": [],
   "source": [
    "preds = m*x+b"
   ]
  },
  {
   "cell_type": "code",
   "execution_count": 265,
   "metadata": {},
   "outputs": [],
   "source": [
    "#also calculate the mean square error for these predictions\n",
    "mse = sum((y-preds)**2)/len(y)"
   ]
  },
  {
   "cell_type": "markdown",
   "metadata": {},
   "source": [
    "In order to see if our predictions are actually following the linear model, let's take a look at the predictions plotted along with the actual data"
   ]
  },
  {
   "cell_type": "code",
   "execution_count": 266,
   "metadata": {},
   "outputs": [],
   "source": [
    "import matplotlib.pyplot as plt"
   ]
  },
  {
   "cell_type": "code",
   "execution_count": 267,
   "metadata": {},
   "outputs": [
    {
     "data": {
      "text/plain": [
       "<matplotlib.collections.PathCollection at 0x7f7411d82748>"
      ]
     },
     "execution_count": 267,
     "metadata": {},
     "output_type": "execute_result"
    },
    {
     "data": {
      "image/png": "[encoded data removed]",
      "text/plain": [
       "<Figure size 432x288 with 1 Axes>"
      ]
     },
     "metadata": {
      "needs_background": "light"
     },
     "output_type": "display_data"
    }
   ],
   "source": [
    "plt.scatter(x,preds)\n",
    "plt.scatter(x,y)"
   ]
  },
  {
   "cell_type": "markdown",
   "metadata": {},
   "source": [
    "Indeed, we can see that the predictions we make follow what looks like a line of best fit for the data"
   ]
  },
  {
   "cell_type": "code",
   "execution_count": 269,
   "metadata": {},
   "outputs": [
    {
     "data": {
      "text/plain": [
       "<matplotlib.collections.PathCollection at 0x7f7411ca9b70>"
      ]
     },
     "execution_count": 269,
     "metadata": {},
     "output_type": "execute_result"
    },
    {
     "data": {
      "image/png": "[encoded data removed]",
      "text/plain": [
       "<Figure size 432x288 with 1 Axes>"
      ]
     },
     "metadata": {
      "needs_background": "light"
     },
     "output_type": "display_data"
    }
   ],
   "source": [
    "#Look at the original data\n",
    "plt.scatter(x,y)"
   ]
  },
  {
   "cell_type": "code",
   "execution_count": 271,
   "metadata": {},
   "outputs": [
    {
     "data": {
      "text/plain": [
       "<matplotlib.collections.PathCollection at 0x7f7411be57b8>"
      ]
     },
     "execution_count": 271,
     "metadata": {},
     "output_type": "execute_result"
    },
    {
     "data": {
      "image/png": "[encoded data removed]",
      "text/plain": [
       "<Figure size 432x288 with 1 Axes>"
      ]
     },
     "metadata": {
      "needs_background": "light"
     },
     "output_type": "display_data"
    }
   ],
   "source": [
    "#Look at the predictions\n",
    "plt.scatter(x,preds)"
   ]
  },
  {
   "cell_type": "code",
   "execution_count": 272,
   "metadata": {},
   "outputs": [
    {
     "data": {
      "text/plain": [
       "83.94069527435951"
      ]
     },
     "execution_count": 272,
     "metadata": {},
     "output_type": "execute_result"
    }
   ],
   "source": [
    "#look at the error\n",
    "mse"
   ]
  },
  {
   "cell_type": "markdown",
   "metadata": {},
   "source": [
    "That's it! It looks like everything is working, so we'll try using the implementation of the class"
   ]
  },
  {
   "cell_type": "code",
   "execution_count": 273,
   "metadata": {},
   "outputs": [],
   "source": [
    "m = LinearRegression(x,y)"
   ]
  },
  {
   "cell_type": "code",
   "execution_count": 274,
   "metadata": {},
   "outputs": [],
   "source": [
    "m.fit()"
   ]
  },
  {
   "cell_type": "code",
   "execution_count": 275,
   "metadata": {},
   "outputs": [],
   "source": [
    "preds = m.predict(x)"
   ]
  },
  {
   "cell_type": "code",
   "execution_count": 276,
   "metadata": {},
   "outputs": [
    {
     "data": {
      "text/plain": [
       "83.94069527435951"
      ]
     },
     "execution_count": 276,
     "metadata": {},
     "output_type": "execute_result"
    }
   ],
   "source": [
    "m.mse()"
   ]
  },
  {
   "cell_type": "markdown",
   "metadata": {},
   "source": [
    "From this exercise, we're able to see a simple implementation of a statistical model, applied in an object-oriented manner. We now have an algorithm that we can call on any time we believe a single variable is important to predicting another in a linear manner."
   ]
  },
  {
   "cell_type": "code",
   "execution_count": null,
   "metadata": {},
   "outputs": [],
   "source": []
  }
 ],
 "metadata": {
  "kernelspec": {
   "display_name": "Python 3",
   "language": "python",
   "name": "python3"
  },
  "language_info": {
   "codemirror_mode": {
    "name": "ipython",
    "version": 3
   },
   "file_extension": ".py",
   "mimetype": "text/x-python",
   "name": "python",
   "nbconvert_exporter": "python",
   "pygments_lexer": "ipython3",
   "version": "3.6.3"
  }
 },
 "nbformat": 4,
 "nbformat_minor": 2
}
