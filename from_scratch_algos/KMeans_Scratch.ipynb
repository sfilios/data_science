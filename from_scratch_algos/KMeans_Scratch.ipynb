{
 "cells": [
  {
   "cell_type": "markdown",
   "metadata": {},
   "source": [
    "# K-Means from Scratch"
   ]
  },
  {
   "cell_type": "markdown",
   "metadata": {},
   "source": [
    "This notebook serves to help me solidify my understanding of the K-Means algorithm by coding it from scratch. I aim to write the code stepwise in this notebook, and then the algorithm as a class that can be called upon at will."
   ]
  },
  {
   "cell_type": "markdown",
   "metadata": {},
   "source": [
    "K-Means intuition:\n",
    "1. Take input of X<sub>1</sub> ...X<sub>n</sub> data points and K number of centroids (clusters you aim to find)\n",
    "2. Randomly assign centroids to data points\n",
    "3. Calculate the distance from each data point to each centroid\n",
    "4. Assign each point to a cluster\n",
    "5. Centroid gets moved to the arithmetic mean of each cluster\n"
   ]
  },
  {
   "cell_type": "code",
   "execution_count": 62,
   "metadata": {},
   "outputs": [],
   "source": [
    "# get some data to play with from scikit learn\n",
    "from sklearn.datasets.samples_generator import make_blobs\n",
    "import matplotlib.pyplot as plt\n",
    "import numpy as np\n",
    "from random import uniform"
   ]
  },
  {
   "cell_type": "code",
   "execution_count": 63,
   "metadata": {},
   "outputs": [],
   "source": [
    "X, y = make_blobs(n_samples=100, centers=3, n_features=2,\n",
    "                  random_state=0)"
   ]
  },
  {
   "cell_type": "code",
   "execution_count": 64,
   "metadata": {},
   "outputs": [
    {
     "data": {
      "text/plain": [
       "((100, 2), (100,))"
      ]
     },
     "execution_count": 64,
     "metadata": {},
     "output_type": "execute_result"
    }
   ],
   "source": [
    "X.shape, y.shape"
   ]
  },
  {
   "cell_type": "code",
   "execution_count": 467,
   "metadata": {},
   "outputs": [],
   "source": [
    "# X[:,0]"
   ]
  },
  {
   "cell_type": "code",
   "execution_count": 66,
   "metadata": {},
   "outputs": [
    {
     "data": {
      "text/plain": [
       "0.4729367122490491"
      ]
     },
     "execution_count": 66,
     "metadata": {},
     "output_type": "execute_result"
    }
   ],
   "source": [
    "X[:,0].mean()"
   ]
  },
  {
   "cell_type": "markdown",
   "metadata": {},
   "source": [
    "## First, we define the number of centroids (k) and assign them random values"
   ]
  },
  {
   "cell_type": "code",
   "execution_count": 71,
   "metadata": {},
   "outputs": [],
   "source": [
    "# generate random assignments for the centroids\n",
    "k = 3\n",
    "c = []\n",
    "for x in range(k):\n",
    "    #Assign a random value for each centroid, stored in a list.\n",
    "    #For this case, we are saving them as tuples, but a list that has a random value for each feature\n",
    "    #would be better.\n",
    "    #Random values should be between the min and max for each feature.\n",
    "    c.append((uniform(min(X[:,0]),max(X[:,0])), uniform(min(X[:,1]),max(X[:,1]))))\n",
    "    "
   ]
  },
  {
   "cell_type": "code",
   "execution_count": 72,
   "metadata": {},
   "outputs": [
    {
     "data": {
      "text/plain": [
       "[(-1.4719846898136497, 2.1227666328458072),\n",
       " (0.6797404703224932, 4.418883513100349),\n",
       " (-0.6526613418429124, 2.258656753706947)]"
      ]
     },
     "execution_count": 72,
     "metadata": {},
     "output_type": "execute_result"
    }
   ],
   "source": [
    "# now we have 3 randomly initialized centroids\n",
    "c"
   ]
  },
  {
   "cell_type": "markdown",
   "metadata": {},
   "source": [
    "## Now we find the distance\n",
    "We will use Euclidean Distance. Euclidean distance uses geometry to determine how far in n-dimensional space two points are. We can subtract the distance from two points for each feature, and use this as a line segment that represents the hypotenuse of a right triangle. We then use pythagorean theorem to measure the distance (a<sup>2</sup>+b<sup>2</sup>=c<sup>2</sup> where c is the length of the line that we are interested in measuring."
   ]
  },
  {
   "cell_type": "code",
   "execution_count": 84,
   "metadata": {},
   "outputs": [],
   "source": [
    "# Find the difference between each centroid and every point, for all features\n",
    "import math\n",
    "dist = []\n",
    "for centroid in range(len(c)):\n",
    "    legs = X-c[centroid]\n",
    "    dist.append((legs[:,0]**2+legs[:,1]**2)**.5)\n",
    "\n",
    "# Calculate the distance based on the differences"
   ]
  },
  {
   "cell_type": "code",
   "execution_count": 86,
   "metadata": {},
   "outputs": [
    {
     "data": {
      "text/plain": [
       "(-1.4719846898136497, 2.1227666328458072)"
      ]
     },
     "execution_count": 86,
     "metadata": {},
     "output_type": "execute_result"
    }
   ],
   "source": [
    "c[0]"
   ]
  },
  {
   "cell_type": "code",
   "execution_count": 103,
   "metadata": {},
   "outputs": [],
   "source": [
    "# distance from each point to first centroid\n",
    "legs = X-c[0]\n",
    "distances = []\n",
    "\n",
    "for x in range(len(legs)):\n",
    "    a = legs[x,0]\n",
    "    b = legs[x,1]\n",
    "    distance = ((a**2)+b**2)**0.5\n",
    "    distances.append(distance)"
   ]
  },
  {
   "cell_type": "code",
   "execution_count": 140,
   "metadata": {},
   "outputs": [],
   "source": [
    "# Let's implement the distance calculation as a function\n",
    "def euclidean(X, C):\n",
    "    #given an two arrays of numbers of equal length, return the euclidean distance between the two\n",
    "    #X is an array with locations for your data points, C is the array required for centroid location\n",
    "    \n",
    "    # get the differences for each feature between centroid location and data point location\n",
    "    differences = X-C\n",
    "    \n",
    "    #calculate the distance\n",
    "    #get the elementwise square of the differences\n",
    "    diff2s = differences**2\n",
    "    \n",
    "    #add all of the squared differences\n",
    "    a_b_sqrd = diff2s.sum(axis=1)\n",
    "    \n",
    "    #take the elementwise square root. Gives one distance for each feature\n",
    "    c = a_b_sqrd**0.5\n",
    "    \n",
    "    return c"
   ]
  },
  {
   "cell_type": "code",
   "execution_count": 141,
   "metadata": {},
   "outputs": [],
   "source": [
    "c\n",
    "\n",
    "test = euclidean(X, c[0])"
   ]
  },
  {
   "cell_type": "code",
   "execution_count": 142,
   "metadata": {},
   "outputs": [
    {
     "data": {
      "text/plain": [
       "2.6704412993756037"
      ]
     },
     "execution_count": 142,
     "metadata": {},
     "output_type": "execute_result"
    }
   ],
   "source": [
    "legs[0].sum()"
   ]
  },
  {
   "cell_type": "code",
   "execution_count": 466,
   "metadata": {},
   "outputs": [],
   "source": [
    "# test"
   ]
  },
  {
   "cell_type": "code",
   "execution_count": 145,
   "metadata": {},
   "outputs": [],
   "source": [
    "## Now we should be able to calculate the distances to each centroid in a loop\n",
    "how_far = []\n",
    "\n",
    "for centroid in c:\n",
    "    how_far.append(euclidean(X,centroid))"
   ]
  },
  {
   "cell_type": "code",
   "execution_count": 159,
   "metadata": {},
   "outputs": [],
   "source": [
    "test1 = np.concatenate((how_far[0],how_far[1]))"
   ]
  },
  {
   "cell_type": "code",
   "execution_count": 160,
   "metadata": {},
   "outputs": [],
   "source": [
    "# # now, for each point, find out which centroid is the closest\n",
    "# for c1,c2,c3 in zip(how_far[0],how_far[1],how_far[2]):\n",
    "#     #return the index of the maximum value\n",
    "#     print(np.argmax(c1,c2,c3))\n",
    "    \n",
    "\n",
    "# # you'll need to have them in an array instead of zipping them in. That will make everything better\n",
    "# # and more organized anyhow :|"
   ]
  },
  {
   "cell_type": "code",
   "execution_count": 172,
   "metadata": {},
   "outputs": [],
   "source": [
    "a = euclidean(X,c[0])"
   ]
  },
  {
   "cell_type": "code",
   "execution_count": 179,
   "metadata": {},
   "outputs": [],
   "source": [
    "# a.reshape(100,1)\n",
    "b = euclidean(X,c[1])\n",
    "\n",
    "# b.reshape(100,1)\n",
    "d = euclidean(X,c[2])\n"
   ]
  },
  {
   "cell_type": "code",
   "execution_count": 182,
   "metadata": {},
   "outputs": [],
   "source": [
    "test4 = np.c_[a,b, d]\n",
    "# test4 = np.c_[test4, d]"
   ]
  },
  {
   "cell_type": "code",
   "execution_count": 195,
   "metadata": {},
   "outputs": [],
   "source": [
    "test5 = np.c_[how_far]"
   ]
  },
  {
   "cell_type": "markdown",
   "metadata": {},
   "source": [
    "## The distance function is working. Now we can get a list of the closest centroids"
   ]
  },
  {
   "cell_type": "code",
   "execution_count": null,
   "metadata": {},
   "outputs": [],
   "source": [
    "#Looks like it's working, let's implement it as a function"
   ]
  },
  {
   "cell_type": "code",
   "execution_count": 208,
   "metadata": {},
   "outputs": [],
   "source": [
    "def centroid_call(centroid_info, X):\n",
    "    \"\"\"takes the randomly initialized centroids and the data points\n",
    "    and calls a euclidean distance function to determine how far each data point is\n",
    "    from each centroid. Then returns a list of the closest centroid to each data point.\n",
    "    \"\"\"\n",
    "    #initialize a list to hold all of the distances\n",
    "    how_far = []\n",
    "    \n",
    "    #get a list of all of the distances for each point from each centroid\n",
    "    for centroid in c:\n",
    "        how_far.append(euclidean(X,centroid))\n",
    "    \n",
    "    #reshape the distance list so we can get the index of the closest centroid (argmax)\n",
    "    all_centroid_distances = np.c_[how_far]\n",
    "    matrix = all_centroid_distances.T\n",
    "    #get the closest centroid for each row (data point)\n",
    "    closest_centroid = np.argmin(matrix, axis=1)\n",
    "    "
   ]
  },
  {
   "cell_type": "code",
   "execution_count": 184,
   "metadata": {},
   "outputs": [
    {
     "data": {
      "text/plain": [
       "(100, 3)"
      ]
     },
     "execution_count": 184,
     "metadata": {},
     "output_type": "execute_result"
    }
   ],
   "source": [
    "test4.shape"
   ]
  },
  {
   "cell_type": "code",
   "execution_count": 194,
   "metadata": {},
   "outputs": [],
   "source": [
    "# Cool, it's working\n",
    "# for x in range(100):\n",
    "#     print(np.argmax(test4[x]))"
   ]
  },
  {
   "cell_type": "code",
   "execution_count": 210,
   "metadata": {},
   "outputs": [],
   "source": [
    "clusters = np.argmin(test4, axis=1)"
   ]
  },
  {
   "cell_type": "code",
   "execution_count": 243,
   "metadata": {},
   "outputs": [],
   "source": [
    "?np.mean"
   ]
  },
  {
   "cell_type": "markdown",
   "metadata": {},
   "source": [
    "## After getting a list of the closest centroids, we calculate the mean of each feature for those points."
   ]
  },
  {
   "cell_type": "code",
   "execution_count": 254,
   "metadata": {},
   "outputs": [],
   "source": [
    "def cluster_means(clusters, X):\n",
    "    \"\"\"given the list of cluster assignments and the data locations, find the mean of each cluster \n",
    "    and return the updated centroids\"\"\"\n",
    "    # loop over the number of clusters and calculate the mean for each feature\n",
    "    for i in range(max(clusters)+1):\n",
    "        c[i]=X[np.where(clusters==i)].mean(axis=0)"
   ]
  },
  {
   "cell_type": "markdown",
   "metadata": {},
   "source": [
    "Ok, so we have calculated the distance to the means, assigned each cluster, calculated the average of each, updated them. Now we repeat until convergence."
   ]
  },
  {
   "cell_type": "code",
   "execution_count": 464,
   "metadata": {},
   "outputs": [],
   "source": [
    "# k=3\n",
    "# # for x in range(15):\n",
    " \n",
    "# for centroid in c:\n",
    "#     distance = euclidean(X, centroid)\n",
    "\n"
   ]
  },
  {
   "cell_type": "code",
   "execution_count": 259,
   "metadata": {},
   "outputs": [
    {
     "data": {
      "text/plain": [
       "(100,)"
      ]
     },
     "execution_count": 259,
     "metadata": {},
     "output_type": "execute_result"
    }
   ],
   "source": [
    "distance.shape"
   ]
  },
  {
   "cell_type": "code",
   "execution_count": 263,
   "metadata": {},
   "outputs": [
    {
     "data": {
      "text/plain": [
       "<matplotlib.collections.PathCollection at 0x7f52ee508cc0>"
      ]
     },
     "execution_count": 263,
     "metadata": {},
     "output_type": "execute_result"
    },
    {
     "data": {
      "image/png": "[encoded data removed]",
      "text/plain": [
       "<Figure size 432x288 with 1 Axes>"
      ]
     },
     "metadata": {
      "needs_background": "light"
     },
     "output_type": "display_data"
    }
   ],
   "source": [
    "plt.scatter(X[:,0], X[:,1])"
   ]
  },
  {
   "cell_type": "markdown",
   "metadata": {},
   "source": [
    "# Let's implement it as a class so we can call it at our convenience"
   ]
  },
  {
   "cell_type": "code",
   "execution_count": 336,
   "metadata": {},
   "outputs": [],
   "source": [
    "class KMeans():\n",
    "    def __init__(self, k, X):\n",
    "        self.k = k\n",
    "        self.data = X\n",
    "    \n",
    "        #initialize centroids\n",
    "        c = []\n",
    "        for x in range(k):\n",
    "            #Assign a random value for each centroid, stored in a list.\n",
    "            #Random values should be between the min and max for each feature.\n",
    "            c.append([uniform(min(X[:,0]),max(X[:,0])), uniform(min(X[:,1]),max(X[:,1]))])\n",
    "        \n",
    "        self.centroids = c\n",
    "        \n",
    "    def euclidean(self):\n",
    "        #given an two arrays of numbers of equal length, return the euclidean distance between the two\n",
    "        #X is an array with locations for your data points, C is the array required for centroid location\n",
    "\n",
    "        # get the differences for each feature between centroid location and data point location\n",
    "        differences = self.data-self.centroids\n",
    "\n",
    "        #calculate the distance\n",
    "        #get the elementwise square of the differences\n",
    "        diff2s = differences**2\n",
    "\n",
    "        #add all of the squared differences\n",
    "        a_b_sqrd = diff2s.sum(axis=1)\n",
    "\n",
    "        #take the elementwise square root. Gives one distance for each feature\n",
    "        dist = a_b_sqrd**0.5\n",
    "    \n",
    "        return dist\n",
    "\n",
    "    def centroid_call(self):\n",
    "        \"\"\"takes the randomly initialized centroids and the data points\n",
    "        and calls a euclidean distance function to determine how far each data point is\n",
    "        from each centroid. Then returns a list of the closest centroid to each data point.\n",
    "        \"\"\"\n",
    "        #initialize a list to hold all of the distances\n",
    "        how_far = []\n",
    "\n",
    "        #get a list of all of the distances for each point from each centroid\n",
    "        for centroid in self.centroids:\n",
    "            how_far.append(euclidean(self.data, centroid))\n",
    "\n",
    "        #reshape the distance list so we can get the index of the closest centroid (argmax)\n",
    "        all_centroid_distances = np.c_[how_far]\n",
    "        matrix = all_centroid_distances.T\n",
    "        #get the closest centroid for each row (data point)\n",
    "        closest_centroid = np.argmin(matrix, axis=1)\n",
    "#         self.clusters = closest_centroid\n",
    "        return closest_centroid\n",
    "    \n",
    "    def cluster_means(self, clusters):\n",
    "        \"\"\"given the list of cluster assignments and the data locations, find the mean of each cluster \n",
    "        and return the updated centroids\"\"\"\n",
    "        # loop over the number of clusters and calculate the mean for each feature\n",
    "        for i in range(max(clusters)+1):\n",
    "            self.centroids[i]=self.data[np.where(clusters==i)].mean(axis=0)\n",
    "        return self.centroids\n",
    "    \n",
    "    "
   ]
  },
  {
   "cell_type": "markdown",
   "metadata": {},
   "source": [
    "### First, instantiate and give it the K means as well as you data X"
   ]
  },
  {
   "cell_type": "code",
   "execution_count": 468,
   "metadata": {},
   "outputs": [],
   "source": [
    "m = KMeans(3, X)"
   ]
  },
  {
   "cell_type": "code",
   "execution_count": 469,
   "metadata": {},
   "outputs": [],
   "source": [
    "# repeat the following until convergence"
   ]
  },
  {
   "cell_type": "code",
   "execution_count": 486,
   "metadata": {},
   "outputs": [],
   "source": [
    "clusters = m.centroid_call()\n"
   ]
  },
  {
   "cell_type": "code",
   "execution_count": 487,
   "metadata": {},
   "outputs": [],
   "source": [
    "y = m.cluster_means(clusters)"
   ]
  },
  {
   "cell_type": "code",
   "execution_count": 488,
   "metadata": {},
   "outputs": [],
   "source": [
    "xs = [m.centroids[x][0] for x in range(len(m.centroids))]\n",
    "\n",
    "ys = [m.centroids[x][1] for x in range(len(m.centroids))]\n"
   ]
  },
  {
   "cell_type": "code",
   "execution_count": 489,
   "metadata": {},
   "outputs": [
    {
     "data": {
      "text/plain": [
       "<matplotlib.collections.PathCollection at 0x7f52ed86d358>"
      ]
     },
     "execution_count": 489,
     "metadata": {},
     "output_type": "execute_result"
    },
    {
     "data": {
      "image/png": "[encoded data removed]",
      "text/plain": [
       "<Figure size 432x288 with 1 Axes>"
      ]
     },
     "metadata": {
      "needs_background": "light"
     },
     "output_type": "display_data"
    }
   ],
   "source": [
    "plt.scatter(xs,ys)\n",
    "plt.scatter(X[:,0], X[:,1])"
   ]
  },
  {
   "cell_type": "markdown",
   "metadata": {},
   "source": [
    "Next steps:\n",
    "1. Make the algorithm automatically call m.cluster_means itself so you don't have to\n",
    "2. Make the algorithm able to repeat the centroid_call/cluster_means automatically a given number of times\n",
    "3. Give it a way to know that it has converged.\n",
    "4. Print after each loop a picture of the scatter plot to know where the means are and how they converge"
   ]
  },
  {
   "cell_type": "code",
   "execution_count": null,
   "metadata": {},
   "outputs": [],
   "source": []
  }
 ],
 "metadata": {
  "kernelspec": {
   "display_name": "Python 3",
   "language": "python",
   "name": "python3"
  },
  "language_info": {
   "codemirror_mode": {
    "name": "ipython",
    "version": 3
   },
   "file_extension": ".py",
   "mimetype": "text/x-python",
   "name": "python",
   "nbconvert_exporter": "python",
   "pygments_lexer": "ipython3",
   "version": "3.6.3"
  }
 },
 "nbformat": 4,
 "nbformat_minor": 2
}
