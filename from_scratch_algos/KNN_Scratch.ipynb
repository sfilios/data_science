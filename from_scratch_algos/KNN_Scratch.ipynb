{
 "cells": [
  {
   "cell_type": "markdown",
   "metadata": {},
   "source": [
    "# KNN From Scratch\n",
    "This notebook is one in a series where I attempt to build a few popular machine learning algorithms from scratch. It's a way for me to solidify my understanding of the algorithm and practice my coding as I apply for positions. I recently completed the Insight Data Science Fellowship, and am building out a portfolio while I apply for full-time positions."
   ]
  },
  {
   "cell_type": "markdown",
   "metadata": {},
   "source": [
    "**KNN** is a classification algorithm that takes labeled data and compares a given point with k points that are closest to it in multidimensional space. These neighbors get to \"vote\" on how to classify the given point, each voting for their own label. K should be an odd number if you're choosing between two classes, so that there are no ties. K must not be a multiple of the number of classes, also to avoid ties.\n"
   ]
  },
  {
   "cell_type": "markdown",
   "metadata": {},
   "source": [
    "1. Get the distance between your point(s) and the data\n",
    "2. Find the k closest points\n",
    "3. Choose the highest voted class as a label\n",
    "4. Return a vector of labels"
   ]
  },
  {
   "cell_type": "code",
   "execution_count": 1,
   "metadata": {},
   "outputs": [],
   "source": [
    "from sklearn.datasets.samples_generator import make_blobs\n",
    "import matplotlib.pyplot as plt\n",
    "import numpy as np\n",
    "from random import uniform"
   ]
  },
  {
   "cell_type": "code",
   "execution_count": 2,
   "metadata": {},
   "outputs": [],
   "source": [
    "# Let's initialize some data to play with\n",
    "X, y = make_blobs(n_samples=100, centers=2, n_features=2,\n",
    "                  random_state=0)"
   ]
  },
  {
   "cell_type": "code",
   "execution_count": 3,
   "metadata": {},
   "outputs": [
    {
     "data": {
      "text/plain": [
       "<matplotlib.collections.PathCollection at 0x7f1f9b6970b8>"
      ]
     },
     "execution_count": 3,
     "metadata": {},
     "output_type": "execute_result"
    },
    {
     "data": {
      "image/png": "[encoded data removed]",
      "text/plain": [
       "<Figure size 432x288 with 1 Axes>"
      ]
     },
     "metadata": {
      "needs_background": "light"
     },
     "output_type": "display_data"
    }
   ],
   "source": [
    "# Now we can take a look at the data we generated\n",
    "plt.scatter(X[:,0], X[:,1])"
   ]
  },
  {
   "cell_type": "code",
   "execution_count": 4,
   "metadata": {},
   "outputs": [],
   "source": [
    "#Great we have labeled data. How about we data about 1/3 of it and use that as our validation set\n",
    "x_train = X[0:70]\n",
    "y_train = y[0:70]\n",
    "\n",
    "x_valid = X[70:]\n",
    "y_valid = y[70:]"
   ]
  },
  {
   "cell_type": "markdown",
   "metadata": {},
   "source": [
    "### Distance"
   ]
  },
  {
   "cell_type": "markdown",
   "metadata": {},
   "source": [
    "Fortunately, I just wrote a k-Means algorithm from scratch and created a function to retrieve Euclidean distance. I'm going to modify this function again here to measure the distances."
   ]
  },
  {
   "cell_type": "code",
   "execution_count": 5,
   "metadata": {},
   "outputs": [],
   "source": [
    "def euclidean(X, C):\n",
    "    \"\"\"given an array of labeled data and an unlabeled data point, find the distance between\n",
    "    any unlabeled point and the labeled points.\n",
    "    \"\"\"\n",
    "    \n",
    "    # get the differences for each feature between centroid location and data point location\n",
    "    differences = X-C\n",
    "    \n",
    "    #calculate the distance\n",
    "    #get the elementwise square of the differences\n",
    "    diff2s = differences**2\n",
    "    \n",
    "    #add all of the squared differences\n",
    "    a_b_sqrd = diff2s.sum(axis=1)\n",
    "    \n",
    "    #take the elementwise square root. Gives one distance for each feature\n",
    "    c = a_b_sqrd**0.5\n",
    "    \n",
    "    return c"
   ]
  },
  {
   "cell_type": "markdown",
   "metadata": {},
   "source": [
    "## Find K closest points (nearest neighbors)"
   ]
  },
  {
   "cell_type": "markdown",
   "metadata": {},
   "source": [
    "Let's try to make sure we can properly call the function for just one value, and then we'll do it for all values."
   ]
  },
  {
   "cell_type": "code",
   "execution_count": 6,
   "metadata": {},
   "outputs": [],
   "source": [
    "distance = euclidean(x_valid[0], x_train)"
   ]
  },
  {
   "cell_type": "markdown",
   "metadata": {},
   "source": [
    "We can use argsort to take the index of the sorted values. This is an easy way for us to get the k-nearest neighbors from our distance list"
   ]
  },
  {
   "cell_type": "code",
   "execution_count": 7,
   "metadata": {},
   "outputs": [],
   "source": [
    "k_nn = np.argsort(distance)[:3]"
   ]
  },
  {
   "cell_type": "code",
   "execution_count": 8,
   "metadata": {},
   "outputs": [
    {
     "data": {
      "text/plain": [
       "array([43, 69, 65])"
      ]
     },
     "execution_count": 8,
     "metadata": {},
     "output_type": "execute_result"
    }
   ],
   "source": [
    "k_nn"
   ]
  },
  {
   "cell_type": "markdown",
   "metadata": {},
   "source": [
    "If we look at the three nearest neighbors, they are the points at the above indices. Let's see what each of them voted manually."
   ]
  },
  {
   "cell_type": "code",
   "execution_count": 27,
   "metadata": {},
   "outputs": [
    {
     "name": "stdout",
     "output_type": "stream",
     "text": [
      "0\n",
      "0\n",
      "1\n"
     ]
    }
   ],
   "source": [
    "print(y_train[43])\n",
    "print(y_train[69])\n",
    "print(y_train[65])"
   ]
  },
  {
   "cell_type": "markdown",
   "metadata": {},
   "source": [
    "## Tally the votes"
   ]
  },
  {
   "cell_type": "markdown",
   "metadata": {},
   "source": [
    "My first thought is that maybe I can give the indices that represent our k nearest neighbors to the array of our labels and have it return those labels as 'votes'."
   ]
  },
  {
   "cell_type": "code",
   "execution_count": 10,
   "metadata": {},
   "outputs": [
    {
     "data": {
      "text/plain": [
       "array([0, 0, 1])"
      ]
     },
     "execution_count": 10,
     "metadata": {},
     "output_type": "execute_result"
    }
   ],
   "source": [
    "# can I give a list of indices and return the values for those?\n",
    "votes = y_train[k_nn]\n",
    "votes\n",
    "#yes"
   ]
  },
  {
   "cell_type": "markdown",
   "metadata": {},
   "source": [
    "Great! It seems to work. The next step is to take the value that occurs the most frequently, and choose that as the label."
   ]
  },
  {
   "cell_type": "markdown",
   "metadata": {},
   "source": [
    "## Return the labels"
   ]
  },
  {
   "cell_type": "code",
   "execution_count": 11,
   "metadata": {},
   "outputs": [],
   "source": [
    "#now, can I take the most common value from that array?\n",
    "label = np.bincount(votes).argmax()\n",
    "#also yes."
   ]
  },
  {
   "cell_type": "markdown",
   "metadata": {},
   "source": [
    "Now that I've shown that we can get the distances for just one point, how about for a whole set of points?"
   ]
  },
  {
   "cell_type": "code",
   "execution_count": 12,
   "metadata": {},
   "outputs": [],
   "source": [
    "k = 3\n",
    "predictions = []\n",
    "\n",
    "for x in x_valid:\n",
    "    #calculate distance between point to be classified and the \"training\" data\n",
    "    d = euclidean(x, x_train)\n",
    "    \n",
    "    #get the indices of the k nearest neighbors\n",
    "    neighbors = np.argsort(d)[:k]\n",
    "    \n",
    "    #for the k nearest neighbors, find out what their votes were\n",
    "    vote = y_train[neighbors]\n",
    "    \n",
    "    #count the votes for each class and return the highest vote\n",
    "    label = np.bincount(vote).argmax()\n",
    "    \n",
    "    predictions.append(label)"
   ]
  },
  {
   "cell_type": "code",
   "execution_count": 13,
   "metadata": {},
   "outputs": [
    {
     "data": {
      "text/plain": [
       "array([0, 1, 1, 0, 0, 0, 1, 1, 0, 0, 1, 0, 0, 0, 0, 0, 1, 0, 1, 1, 1, 1,\n",
       "       1, 1, 0, 0, 1, 1, 0, 1])"
      ]
     },
     "execution_count": 13,
     "metadata": {},
     "output_type": "execute_result"
    }
   ],
   "source": [
    "y_valid"
   ]
  },
  {
   "cell_type": "code",
   "execution_count": 18,
   "metadata": {},
   "outputs": [],
   "source": [
    "guesses = np.asarray(predictions)"
   ]
  },
  {
   "cell_type": "markdown",
   "metadata": {},
   "source": [
    "## Metrics"
   ]
  },
  {
   "cell_type": "markdown",
   "metadata": {},
   "source": [
    "Let's include a metric that let's us determine how well the algorithm is performing. Accuracy would be a good one to start with, given that we're interesting in knowing how many things are properly classified. A good follow-up would be to look at a confusion matrix."
   ]
  },
  {
   "cell_type": "code",
   "execution_count": 25,
   "metadata": {},
   "outputs": [],
   "source": [
    "def accuracy(preds, actuals):\n",
    "    \"\"\"take an np array of predicted values and an np array of actual values.\n",
    "    Return the percentage that were correctly labeled\"\"\"\n",
    "    correct = 0\n",
    "    \n",
    "    for pred, actual in zip(preds, actuals):\n",
    "        if pred == actual:\n",
    "            correct+=1\n",
    "    \n",
    "    accuracy = correct/len(preds)*100\n",
    "    return accuracy"
   ]
  },
  {
   "cell_type": "code",
   "execution_count": 26,
   "metadata": {},
   "outputs": [
    {
     "data": {
      "text/plain": [
       "100.0"
      ]
     },
     "execution_count": 26,
     "metadata": {},
     "output_type": "execute_result"
    }
   ],
   "source": [
    "accuracy(guesses, y_valid)"
   ]
  }
 ],
 "metadata": {
  "kernelspec": {
   "display_name": "Python 3",
   "language": "python",
   "name": "python3"
  },
  "language_info": {
   "codemirror_mode": {
    "name": "ipython",
    "version": 3
   },
   "file_extension": ".py",
   "mimetype": "text/x-python",
   "name": "python",
   "nbconvert_exporter": "python",
   "pygments_lexer": "ipython3",
   "version": "3.6.3"
  }
 },
 "nbformat": 4,
 "nbformat_minor": 2
}
