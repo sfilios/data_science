{
 "cells": [
  {
   "cell_type": "code",
   "execution_count": 4,
   "metadata": {},
   "outputs": [],
   "source": [
    "#import the necessary libraries\n",
    "import pandas as pd\n",
    "import os\n",
    "import seaborn as sns\n"
   ]
  },
  {
   "cell_type": "markdown",
   "metadata": {},
   "source": [
    "Here, I'll build a model to predict pitcher wins. This would be the kind of feature that I want to use as I account for and predict what stats are important for building a good fantasy team. This is just a preliminary demonstration."
   ]
  },
  {
   "cell_type": "code",
   "execution_count": 5,
   "metadata": {},
   "outputs": [
    {
     "name": "stdout",
     "output_type": "stream",
     "text": [
      "\u001b[31mAllstarFull.csv\u001b[m\u001b[m               \u001b[31mManagers.csv\u001b[m\u001b[m\r\n",
      "\u001b[31mAppearances.csv\u001b[m\u001b[m               \u001b[31mManagersHalf.csv\u001b[m\u001b[m\r\n",
      "\u001b[31mAwardsManagers.csv\u001b[m\u001b[m            \u001b[31mParks.csv\u001b[m\u001b[m\r\n",
      "\u001b[31mAwardsPlayers.csv\u001b[m\u001b[m             \u001b[31mPeople.csv\u001b[m\u001b[m\r\n",
      "\u001b[31mAwardsShareManagers.csv\u001b[m\u001b[m       \u001b[31mPitching.csv\u001b[m\u001b[m\r\n",
      "\u001b[31mAwardsSharePlayers.csv\u001b[m\u001b[m        \u001b[31mPitchingPost.csv\u001b[m\u001b[m\r\n",
      "\u001b[31mBatting.csv\u001b[m\u001b[m                   \u001b[31mSalaries.csv\u001b[m\u001b[m\r\n",
      "\u001b[31mBattingPost.csv\u001b[m\u001b[m               \u001b[31mSchools.csv\u001b[m\u001b[m\r\n",
      "\u001b[31mCollegePlaying.csv\u001b[m\u001b[m            \u001b[31mSeriesPost.csv\u001b[m\u001b[m\r\n",
      "\u001b[31mFielding.csv\u001b[m\u001b[m                  \u001b[31mTeams.csv\u001b[m\u001b[m\r\n",
      "\u001b[31mFieldingOF.csv\u001b[m\u001b[m                \u001b[31mTeamsFranchises.csv\u001b[m\u001b[m\r\n",
      "\u001b[31mFieldingOFsplit.csv\u001b[m\u001b[m           \u001b[31mTeamsHalf.csv\u001b[m\u001b[m\r\n",
      "\u001b[31mFieldingPost.csv\u001b[m\u001b[m              predicting_pitcher_wins.ipynb\r\n",
      "\u001b[31mHallOfFame.csv\u001b[m\u001b[m                \u001b[31mreadme2014.txt\u001b[m\u001b[m\r\n",
      "\u001b[31mHomeGames.csv\u001b[m\u001b[m\r\n"
     ]
    }
   ],
   "source": [
    "#take a look at what we have to explore\n",
    "!ls"
   ]
  },
  {
   "cell_type": "code",
   "execution_count": 6,
   "metadata": {},
   "outputs": [
    {
     "data": {
      "text/html": [
       "<div>\n",
       "<style scoped>\n",
       "    .dataframe tbody tr th:only-of-type {\n",
       "        vertical-align: middle;\n",
       "    }\n",
       "\n",
       "    .dataframe tbody tr th {\n",
       "        vertical-align: top;\n",
       "    }\n",
       "\n",
       "    .dataframe thead th {\n",
       "        text-align: right;\n",
       "    }\n",
       "</style>\n",
       "<table border=\"1\" class=\"dataframe\">\n",
       "  <thead>\n",
       "    <tr style=\"text-align: right;\">\n",
       "      <th></th>\n",
       "      <th>playerID</th>\n",
       "      <th>yearID</th>\n",
       "      <th>stint</th>\n",
       "      <th>teamID</th>\n",
       "      <th>lgID</th>\n",
       "      <th>W</th>\n",
       "      <th>L</th>\n",
       "      <th>G</th>\n",
       "      <th>GS</th>\n",
       "      <th>CG</th>\n",
       "      <th>...</th>\n",
       "      <th>IBB</th>\n",
       "      <th>WP</th>\n",
       "      <th>HBP</th>\n",
       "      <th>BK</th>\n",
       "      <th>BFP</th>\n",
       "      <th>GF</th>\n",
       "      <th>R</th>\n",
       "      <th>SH</th>\n",
       "      <th>SF</th>\n",
       "      <th>GIDP</th>\n",
       "    </tr>\n",
       "  </thead>\n",
       "  <tbody>\n",
       "    <tr>\n",
       "      <th>45801</th>\n",
       "      <td>youngch03</td>\n",
       "      <td>2017</td>\n",
       "      <td>1</td>\n",
       "      <td>KCA</td>\n",
       "      <td>AL</td>\n",
       "      <td>0</td>\n",
       "      <td>0</td>\n",
       "      <td>14</td>\n",
       "      <td>2</td>\n",
       "      <td>0</td>\n",
       "      <td>...</td>\n",
       "      <td>2.0</td>\n",
       "      <td>1</td>\n",
       "      <td>1.0</td>\n",
       "      <td>0</td>\n",
       "      <td>148.0</td>\n",
       "      <td>5</td>\n",
       "      <td>27</td>\n",
       "      <td>0.0</td>\n",
       "      <td>0.0</td>\n",
       "      <td>3.0</td>\n",
       "    </tr>\n",
       "    <tr>\n",
       "      <th>45802</th>\n",
       "      <td>zastrro01</td>\n",
       "      <td>2017</td>\n",
       "      <td>1</td>\n",
       "      <td>CHN</td>\n",
       "      <td>NL</td>\n",
       "      <td>0</td>\n",
       "      <td>0</td>\n",
       "      <td>4</td>\n",
       "      <td>0</td>\n",
       "      <td>0</td>\n",
       "      <td>...</td>\n",
       "      <td>0.0</td>\n",
       "      <td>0</td>\n",
       "      <td>1.0</td>\n",
       "      <td>0</td>\n",
       "      <td>62.0</td>\n",
       "      <td>0</td>\n",
       "      <td>13</td>\n",
       "      <td>0.0</td>\n",
       "      <td>0.0</td>\n",
       "      <td>3.0</td>\n",
       "    </tr>\n",
       "    <tr>\n",
       "      <th>45803</th>\n",
       "      <td>zieglbr01</td>\n",
       "      <td>2017</td>\n",
       "      <td>1</td>\n",
       "      <td>MIA</td>\n",
       "      <td>NL</td>\n",
       "      <td>1</td>\n",
       "      <td>4</td>\n",
       "      <td>53</td>\n",
       "      <td>0</td>\n",
       "      <td>0</td>\n",
       "      <td>...</td>\n",
       "      <td>6.0</td>\n",
       "      <td>1</td>\n",
       "      <td>6.0</td>\n",
       "      <td>0</td>\n",
       "      <td>211.0</td>\n",
       "      <td>21</td>\n",
       "      <td>29</td>\n",
       "      <td>3.0</td>\n",
       "      <td>0.0</td>\n",
       "      <td>10.0</td>\n",
       "    </tr>\n",
       "    <tr>\n",
       "      <th>45804</th>\n",
       "      <td>zimmejo02</td>\n",
       "      <td>2017</td>\n",
       "      <td>1</td>\n",
       "      <td>DET</td>\n",
       "      <td>AL</td>\n",
       "      <td>8</td>\n",
       "      <td>13</td>\n",
       "      <td>29</td>\n",
       "      <td>29</td>\n",
       "      <td>0</td>\n",
       "      <td>...</td>\n",
       "      <td>2.0</td>\n",
       "      <td>3</td>\n",
       "      <td>7.0</td>\n",
       "      <td>0</td>\n",
       "      <td>713.0</td>\n",
       "      <td>0</td>\n",
       "      <td>111</td>\n",
       "      <td>3.0</td>\n",
       "      <td>8.0</td>\n",
       "      <td>19.0</td>\n",
       "    </tr>\n",
       "    <tr>\n",
       "      <th>45805</th>\n",
       "      <td>zychto01</td>\n",
       "      <td>2017</td>\n",
       "      <td>1</td>\n",
       "      <td>SEA</td>\n",
       "      <td>AL</td>\n",
       "      <td>6</td>\n",
       "      <td>3</td>\n",
       "      <td>45</td>\n",
       "      <td>0</td>\n",
       "      <td>0</td>\n",
       "      <td>...</td>\n",
       "      <td>3.0</td>\n",
       "      <td>1</td>\n",
       "      <td>5.0</td>\n",
       "      <td>1</td>\n",
       "      <td>173.0</td>\n",
       "      <td>7</td>\n",
       "      <td>12</td>\n",
       "      <td>1.0</td>\n",
       "      <td>2.0</td>\n",
       "      <td>5.0</td>\n",
       "    </tr>\n",
       "  </tbody>\n",
       "</table>\n",
       "<p>5 rows × 30 columns</p>\n",
       "</div>"
      ],
      "text/plain": [
       "        playerID  yearID  stint teamID lgID  W   L   G  GS  CG  ...   IBB  WP  \\\n",
       "45801  youngch03    2017      1    KCA   AL  0   0  14   2   0  ...   2.0   1   \n",
       "45802  zastrro01    2017      1    CHN   NL  0   0   4   0   0  ...   0.0   0   \n",
       "45803  zieglbr01    2017      1    MIA   NL  1   4  53   0   0  ...   6.0   1   \n",
       "45804  zimmejo02    2017      1    DET   AL  8  13  29  29   0  ...   2.0   3   \n",
       "45805   zychto01    2017      1    SEA   AL  6   3  45   0   0  ...   3.0   1   \n",
       "\n",
       "       HBP  BK    BFP  GF    R   SH   SF  GIDP  \n",
       "45801  1.0   0  148.0   5   27  0.0  0.0   3.0  \n",
       "45802  1.0   0   62.0   0   13  0.0  0.0   3.0  \n",
       "45803  6.0   0  211.0  21   29  3.0  0.0  10.0  \n",
       "45804  7.0   0  713.0   0  111  3.0  8.0  19.0  \n",
       "45805  5.0   1  173.0   7   12  1.0  2.0   5.0  \n",
       "\n",
       "[5 rows x 30 columns]"
      ]
     },
     "execution_count": 6,
     "metadata": {},
     "output_type": "execute_result"
    }
   ],
   "source": [
    "#import the pitchers data and take a look at it\n",
    "pitchers = pd.read_csv('Pitching.csv')\n",
    "pitchers.tail()"
   ]
  },
  {
   "cell_type": "code",
   "execution_count": 23,
   "metadata": {},
   "outputs": [
    {
     "data": {
      "text/plain": [
       "Index(['playerID', 'yearID', 'stint', 'teamID', 'lgID', 'W', 'L', 'G', 'GS',\n",
       "       'CG', 'SHO', 'SV', 'IPouts', 'H', 'ER', 'HR', 'BB', 'SO', 'BAOpp',\n",
       "       'ERA', 'IBB', 'WP', 'HBP', 'BK', 'BFP', 'GF', 'R', 'SH', 'SF', 'GIDP'],\n",
       "      dtype='object')"
      ]
     },
     "execution_count": 23,
     "metadata": {},
     "output_type": "execute_result"
    }
   ],
   "source": [
    "#look at what all the features we have are\n",
    "pitchers.columns"
   ]
  },
  {
   "cell_type": "code",
   "execution_count": 36,
   "metadata": {},
   "outputs": [],
   "source": [
    "#I want to predict wins, so I set my target as the Wins column in our data frame\n",
    "y = pitchers.W\n",
    "\n",
    "#I then delete the Wins column because I don't want to train on the data I'm trying to predict\n",
    "del pitchers['W']\n",
    "pitchers.fillna(0)\n",
    "\n",
    "#I want to get one-hot variables for categorical things like League and Team\n",
    "#but if I leave the PlayerID in there, I will have thousands of one-hot columns that are meaningless\n",
    "#it will make the data take too long to work with and doesn't add anything (that I can think of)\n",
    "del pitchers['playerID']\n",
    "#now that I have deleted\n",
    "one_hot = pd.get_dummies(pitchers)\n"
   ]
  },
  {
   "cell_type": "code",
   "execution_count": 37,
   "metadata": {},
   "outputs": [
    {
     "data": {
      "text/plain": [
       "Index(['yearID', 'stint', 'L', 'G', 'GS', 'CG', 'SHO', 'SV', 'IPouts', 'H',\n",
       "       ...\n",
       "       'teamID_WS7', 'teamID_WS8', 'teamID_WS9', 'teamID_WSU', 'lgID_AA',\n",
       "       'lgID_AL', 'lgID_FL', 'lgID_NL', 'lgID_PL', 'lgID_UA'],\n",
       "      dtype='object', length=181)"
      ]
     },
     "execution_count": 37,
     "metadata": {},
     "output_type": "execute_result"
    }
   ],
   "source": [
    "#we're going to need to validate our model, so let's use the train_test_split function\n",
    "#here we import the necessary function\n",
    "from sklearn.model_selection import train_test_split\n",
    "\n",
    "#let's take a look at the columns again to make sure we didn't create way too many one-hot dummy variables\n",
    "one_hot.columns"
   ]
  },
  {
   "cell_type": "code",
   "execution_count": 38,
   "metadata": {},
   "outputs": [],
   "source": [
    "#split the dataset 80/20 for training/testing\n",
    "X_train, X_test, y_train, y_test = train_test_split(one_hot, y, test_size = .2, random_state=42)\n"
   ]
  },
  {
   "cell_type": "code",
   "execution_count": 39,
   "metadata": {},
   "outputs": [],
   "source": [
    "#import the necessary library to create our model\n",
    "from xgboost import XGBRegressor\n",
    "\n",
    "#define the model. I arbitrarily selected the number of trees to fit and the learning rate\n",
    "model = XGBRegressor(n_estimators=124, learning_rate=0.05)\n"
   ]
  },
  {
   "cell_type": "code",
   "execution_count": 40,
   "metadata": {},
   "outputs": [
    {
     "data": {
      "text/plain": [
       "XGBRegressor(base_score=0.5, booster='gbtree', colsample_bylevel=1,\n",
       "       colsample_bytree=1, gamma=0, learning_rate=0.05, max_delta_step=0,\n",
       "       max_depth=3, min_child_weight=1, missing=None, n_estimators=124,\n",
       "       n_jobs=1, nthread=None, objective='reg:linear', random_state=0,\n",
       "       reg_alpha=0, reg_lambda=1, scale_pos_weight=1, seed=None,\n",
       "       silent=True, subsample=1)"
      ]
     },
     "execution_count": 40,
     "metadata": {},
     "output_type": "execute_result"
    }
   ],
   "source": [
    "#fit the model\n",
    "model.fit(X_train, y_train)"
   ]
  },
  {
   "cell_type": "code",
   "execution_count": 42,
   "metadata": {},
   "outputs": [
    {
     "name": "stdout",
     "output_type": "stream",
     "text": [
      "MAE is 1.1135217059298754\n"
     ]
    }
   ],
   "source": [
    "#make predictions about the test set\n",
    "predictions = model.predict(X_test)\n",
    "\n",
    "#we want to know how well we predicted number of wins, so we will import a function to measure mean absolute error.\n",
    "from sklearn.metrics import mean_absolute_error\n",
    "print(\"MAE is \"+ str(mean_absolute_error(predictions, y_test)))"
   ]
  },
  {
   "cell_type": "code",
   "execution_count": 46,
   "metadata": {},
   "outputs": [
    {
     "name": "stdout",
     "output_type": "stream",
     "text": [
      "MAE is 2.863752402799459\n",
      "MAE is 1.9979518873316573\n",
      "MAE is 1.1351495600474035\n",
      "MAE is 1.070456321278245\n",
      "MAE is 2.363627120013243\n",
      "MAE is 1.5638966722158958\n",
      "MAE is 1.093505686360841\n",
      "MAE is 1.0509768749748456\n",
      "MAE is 2.0011811579478618\n",
      "MAE is 1.3558994526654657\n",
      "MAE is 1.0737698770127582\n",
      "MAE is 1.0402742041963282\n",
      "MAE is 1.7453338602853379\n",
      "MAE is 1.2571272953150965\n",
      "MAE is 1.061709391634242\n",
      "MAE is 1.036213462229406\n",
      "MAE is 1.5655714268345833\n",
      "MAE is 1.2068773532207813\n",
      "MAE is 1.0534068274298913\n",
      "MAE is 1.0321441693835267\n",
      "MAE is 1.4424967050122997\n",
      "MAE is 1.1789399568748589\n",
      "MAE is 1.0487031088115295\n",
      "MAE is 1.0301027851082878\n"
     ]
    }
   ],
   "source": [
    "#if we're predicting within about 1 game, that's a pretty good prediction.\n",
    "#let's see if we can make it better with more trees\n",
    "\n",
    "estim = [100,150,200,250,300,350]\n",
    "lrs = [0.005, 0.01, 0.05, 0.1]\n",
    "for num in estim:\n",
    "    for lr in lrs:\n",
    "        model = XGBRegressor(n_estimators=num, learning_rate=lr)\n",
    "        model.fit(X_train, y_train)\n",
    "        predictions = model.predict(X_test)\n",
    "        print(\"MAE is \"+ str(mean_absolute_error(predictions, y_test)))"
   ]
  },
  {
   "cell_type": "code",
   "execution_count": 1,
   "metadata": {},
   "outputs": [],
   "source": [
    "#Obviously, there's room for improvement. We improved from 1.113 to 1.093\n",
    "#Oops! I realized that my test set is only the most recent \n",
    "#we always kept going down, so it seems we haven't overfit\n",
    "# lrs = [0.1, 0.5, 1.0]\n",
    "# estim = [350,400,450]\n",
    "\n",
    "# for num in estim:\n",
    "#     for lr in lrs:\n",
    "#         model = XGBRegressor(n_estimators=num, learning_rate=lr)\n",
    "#         model.fit(X_train, y_train)\n",
    "#         predictions = model.predict(X_test)\n",
    "#         print(\"MAE is \"+ str(mean_absolute_error(predictions, y_test)))"
   ]
  },
  {
   "cell_type": "code",
   "execution_count": 50,
   "metadata": {},
   "outputs": [
    {
     "name": "stdout",
     "output_type": "stream",
     "text": [
      "MAE is 1.0280941753499608\n",
      "MAE is 1.0270967173657024\n",
      "MAE is 1.0256665427041767\n",
      "MAE is 1.0250265147358901\n"
     ]
    }
   ],
   "source": [
    "lrs = [0.1]\n",
    "estim = [400,450,500,550]\n",
    "\n",
    "for num in estim:\n",
    "    for lr in lrs:\n",
    "        model = XGBRegressor(n_estimators=num, learning_rate=lr)\n",
    "        model.fit(X_train, y_train)\n",
    "        predictions = model.predict(X_test)\n",
    "        print(\"MAE is \"+ str(mean_absolute_error(predictions, y_test)))"
   ]
  },
  {
   "cell_type": "code",
   "execution_count": null,
   "metadata": {},
   "outputs": [],
   "source": [
    "#the model started getting worse when we went up to 0.5 with the learning rate\n",
    "#so we'll stick with 0.1 - we could narrow this down farther\n",
    "#but this is a primarily academic exercise at this point\n"
   ]
  },
  {
   "cell_type": "code",
   "execution_count": 2,
   "metadata": {},
   "outputs": [],
   "source": [
    "import seaborn as sns\n"
   ]
  },
  {
   "cell_type": "code",
   "execution_count": 7,
   "metadata": {},
   "outputs": [
    {
     "name": "stderr",
     "output_type": "stream",
     "text": [
      "/anaconda3/lib/python3.6/site-packages/scipy/stats/stats.py:1713: FutureWarning: Using a non-tuple sequence for multidimensional indexing is deprecated; use `arr[tuple(seq)]` instead of `arr[seq]`. In the future this will be interpreted as an array index, `arr[np.array(seq)]`, which will result either in an error or a different result.\n",
      "  return np.add.reduce(sorted[indexer] * weights, axis=axis) / sumval\n",
      "/anaconda3/lib/python3.6/site-packages/matplotlib/axes/_axes.py:6462: UserWarning: The 'normed' kwarg is deprecated, and has been replaced by the 'density' kwarg.\n",
      "  warnings.warn(\"The 'normed' kwarg is deprecated, and has been \"\n"
     ]
    },
    {
     "data": {
      "text/plain": [
       "<matplotlib.axes._subplots.AxesSubplot at 0x1a184bacf8>"
      ]
     },
     "execution_count": 7,
     "metadata": {},
     "output_type": "execute_result"
    },
    {
     "data": {
      "image/png": "[encoded data removed]",
      "text/plain": [
       "<Figure size 432x288 with 1 Axes>"
      ]
     },
     "metadata": {},
     "output_type": "display_data"
    }
   ],
   "source": [
    "sns.distplot(pitchers.W)\n",
    "#The distribution of wins, a notoriously difficult to predict category"
   ]
  },
  {
   "cell_type": "code",
   "execution_count": 10,
   "metadata": {},
   "outputs": [
    {
     "name": "stderr",
     "output_type": "stream",
     "text": [
      "/anaconda3/lib/python3.6/site-packages/scipy/stats/stats.py:1713: FutureWarning: Using a non-tuple sequence for multidimensional indexing is deprecated; use `arr[tuple(seq)]` instead of `arr[seq]`. In the future this will be interpreted as an array index, `arr[np.array(seq)]`, which will result either in an error or a different result.\n",
      "  return np.add.reduce(sorted[indexer] * weights, axis=axis) / sumval\n",
      "/anaconda3/lib/python3.6/site-packages/matplotlib/axes/_axes.py:6462: UserWarning: The 'normed' kwarg is deprecated, and has been replaced by the 'density' kwarg.\n",
      "  warnings.warn(\"The 'normed' kwarg is deprecated, and has been \"\n",
      "/anaconda3/lib/python3.6/site-packages/matplotlib/axes/_axes.py:6462: UserWarning: The 'normed' kwarg is deprecated, and has been replaced by the 'density' kwarg.\n",
      "  warnings.warn(\"The 'normed' kwarg is deprecated, and has been \"\n"
     ]
    },
    {
     "data": {
      "text/plain": [
       "<seaborn.axisgrid.JointGrid at 0x10b85deb8>"
      ]
     },
     "execution_count": 10,
     "metadata": {},
     "output_type": "execute_result"
    },
    {
     "data": {
      "image/png": "[encoded data removed]",
      "text/plain": [
       "<Figure size 432x432 with 3 Axes>"
      ]
     },
     "metadata": {},
     "output_type": "display_data"
    }
   ],
   "source": [
    "sns.jointplot(pitchers.GS, pitchers.W)\n",
    "#obviously, wins is going to be correlated with the number of games started\n",
    "#you can't get a win unless you start a game"
   ]
  },
  {
   "cell_type": "code",
   "execution_count": null,
   "metadata": {},
   "outputs": [],
   "source": []
  }
 ],
 "metadata": {
  "kernelspec": {
   "display_name": "Python 3",
   "language": "python",
   "name": "python3"
  },
  "language_info": {
   "codemirror_mode": {
    "name": "ipython",
    "version": 3
   },
   "file_extension": ".py",
   "mimetype": "text/x-python",
   "name": "python",
   "nbconvert_exporter": "python",
   "pygments_lexer": "ipython3",
   "version": "3.6.5"
  }
 },
 "nbformat": 4,
 "nbformat_minor": 2
}
